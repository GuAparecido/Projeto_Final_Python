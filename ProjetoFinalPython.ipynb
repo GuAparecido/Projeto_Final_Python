{
  "nbformat": 4,
  "nbformat_minor": 0,
  "metadata": {
    "colab": {
      "provenance": [],
      "include_colab_link": true
    },
    "kernelspec": {
      "name": "python3",
      "display_name": "Python 3"
    },
    "language_info": {
      "name": "python"
    }
  },
  "cells": [
    {
      "cell_type": "markdown",
      "metadata": {
        "id": "view-in-github",
        "colab_type": "text"
      },
      "source": [
        "<a href=\"https://colab.research.google.com/github/GuAparecido/Projeto_Final_Python/blob/main/ProjetoFinalPython.ipynb\" target=\"_parent\"><img src=\"https://colab.research.google.com/assets/colab-badge.svg\" alt=\"Open In Colab\"/></a>"
      ]
    },
    {
      "cell_type": "markdown",
      "source": [
        "# Projeto Final **Python**"
      ],
      "metadata": {
        "id": "NsaJkovXldRA"
      }
    },
    {
      "cell_type": "code",
      "execution_count": null,
      "metadata": {
        "id": "yt60wQ_ZZruC"
      },
      "outputs": [],
      "source": [
        "import requests\n",
        "import time\n",
        "import hashlib\n",
        "from google.colab import userdata\n",
        "import pandas as pd\n",
        "import sqlite3\n",
        "import datetime as dt\n",
        "import sklearn"
      ]
    },
    {
      "cell_type": "code",
      "source": [
        "# Request Url: http://gateway.marvel.com/v1/public/comics\n",
        "# Request Method: GET\n",
        "urlComics = \"http://gateway.marvel.com/v1/public/comics\"\n",
        "urlCharacter = \"http://gateway.marvel.com/v1/public/characters\"\n",
        "urlEvents = \"http://gateway.marvel.com/v1/public/events\"\n",
        "\n",
        "# Declarando as variáveis necessárias\n",
        "api_key = userdata.get('api_key')\n",
        "ts = str(int(time.time()))\n",
        "secret_key = userdata.get('secret_key')\n",
        "string_to_hash =  ts + secret_key + api_key\n",
        "hash_value = hashlib.md5(string_to_hash.encode('utf-8')).hexdigest()\n",
        "\n",
        "#Definindo parâmetros de utilização da API.\n",
        "params = {\n",
        "    \"apikey\": api_key,\n",
        "    \"ts\": ts,\n",
        "    \"hash\": hash_value\n",
        "}\n",
        "\n",
        "# Buscando requisições dos quadrinhos\n",
        "responseComics = requests.get(urlComics, params=params)\n",
        "\n",
        "# Buscando requisições dos personagens\n",
        "responseCharacters = requests.get(urlCharacter, params=params)\n",
        "\n",
        "# # Buscando requisições dos eventos\n",
        "responseEvents = requests.get(urlEvents, params=params)\n",
        "\n",
        "# Validando o retorno das APIs\n",
        "# Quadrinhos\n",
        "if responseComics.status_code == 200:\n",
        "    dadosComics = responseComics.json()\n",
        "    print(\"Tudo certo com a requisição de comics\")\n",
        "else:\n",
        "    print(f\"Erro na requisição: {responseComics.status_code}\")\n",
        "\n",
        "# Personagens\n",
        "if responseCharacters.status_code == 200:\n",
        "    dadosCharacters = responseCharacters.json()\n",
        "    print(\"Tudo certo com a requisição de characters\")\n",
        "else:\n",
        "    print(f\"Erro na requisição: {responseCharacters.status_code}\")\n",
        "\n",
        "# Eventos\n",
        "if responseEvents.status_code == 200:\n",
        "    dadosEvents = responseEvents.json()\n",
        "    print(\"Tudo certo com a requisição de events\")\n",
        "else:\n",
        "    print(f\"Erro na requisição: {responseEvents.status_code}\")"
      ],
      "metadata": {
        "id": "7jtRV1p2iIxY"
      },
      "execution_count": null,
      "outputs": []
    },
    {
      "cell_type": "code",
      "source": [
        "# Verificando o retorno\n",
        "dadosComics"
      ],
      "metadata": {
        "collapsed": true,
        "id": "NBkuRKIiiWBs"
      },
      "execution_count": null,
      "outputs": []
    },
    {
      "cell_type": "code",
      "source": [
        "# Verificando o retorno\n",
        "dadosCharacters"
      ],
      "metadata": {
        "collapsed": true,
        "id": "2xv6wHa7jRoF"
      },
      "execution_count": null,
      "outputs": []
    },
    {
      "cell_type": "code",
      "source": [
        "# Verificando o retorno\n",
        "dadosEvents"
      ],
      "metadata": {
        "collapsed": true,
        "id": "Xhxf5Bs8jR-q"
      },
      "execution_count": null,
      "outputs": []
    },
    {
      "cell_type": "code",
      "source": [
        "# Validando status\n",
        "statusComics = dadosComics.get('status')\n",
        "print(statusComics)\n",
        "\n",
        "statusCharacters = dadosCharacters.get('status')\n",
        "print(statusCharacters)\n",
        "\n",
        "statusEvents = dadosEvents.get('status')\n",
        "print(statusEvents)"
      ],
      "metadata": {
        "id": "PlEKDFPtjVpg",
        "collapsed": true
      },
      "execution_count": null,
      "outputs": []
    },
    {
      "cell_type": "code",
      "source": [
        "# Encurtando o caminho aos objetos desejados\n",
        "resultsComics = dadosComics.get('data', {}).get('results', [])\n",
        "resultsComics"
      ],
      "metadata": {
        "collapsed": true,
        "id": "MleTMlh5jlgU"
      },
      "execution_count": null,
      "outputs": []
    },
    {
      "cell_type": "code",
      "source": [
        "# Buscando informações necessárias\n",
        "infoComics = [{\n",
        "              'Código': x['id'],\n",
        "              'Nome': x['title'],\n",
        "              'Descrição': x['description'],\n",
        "              'Páginas': x['pageCount'],\n",
        "              'Criadores': ', '.join([str(y[\"name\"] + \" (\" + y [\"role\"] + \")\") for y in x[\"creators\"][\"items\"]])\n",
        "              } for x in resultsComics]\n",
        "\n",
        "infoComics"
      ],
      "metadata": {
        "collapsed": true,
        "id": "8QWbA2oxr1-j"
      },
      "execution_count": null,
      "outputs": []
    },
    {
      "cell_type": "code",
      "source": [
        "# Encurtando o caminho aos objetos\n",
        "resultsCharacters = dadosCharacters.get('data', {}).get('results', [])\n",
        "resultsCharacters"
      ],
      "metadata": {
        "id": "pYeK-p0ijl0u",
        "collapsed": true
      },
      "execution_count": null,
      "outputs": []
    },
    {
      "cell_type": "code",
      "source": [
        "infoCharacter = [{\n",
        "                  'Código': x['id'],\n",
        "                  'Nome': x['name'],\n",
        "                  'Descrição': x['description'],\n",
        "                  'Quadrinhos': ', '.join([y[\"name\"] for y in x[\"comics\"][\"items\"]])\n",
        "                  } for x in resultsCharacters]\n",
        "\n",
        "infoCharacter"
      ],
      "metadata": {
        "collapsed": true,
        "id": "Ta0tEYAdtXpU"
      },
      "execution_count": null,
      "outputs": []
    },
    {
      "cell_type": "code",
      "source": [
        "# Encurtando o caminho aos objetos\n",
        "resultsEvents = dadosEvents.get('data', {}).get('results', [])\n",
        "resultsEvents"
      ],
      "metadata": {
        "id": "v8NmhDE5jmHZ",
        "collapsed": true
      },
      "execution_count": null,
      "outputs": []
    },
    {
      "cell_type": "code",
      "source": [
        "infoEvents = [{'Código': x['id'],\n",
        "               'Nome': x['title'],\n",
        "               'Descrição': x['description'],\n",
        "               'Data Início': x['start'],\n",
        "               'Data Fim': x['end'],\n",
        "               'Criador': ', '.join([str(y[\"name\"] + \" (\" + y [\"role\"] + \")\") for y in x[\"creators\"][\"items\"]])\n",
        "               } for x in resultsEvents]\n",
        "\n",
        "infoEvents"
      ],
      "metadata": {
        "collapsed": true,
        "id": "E8dEDJPrtYHD"
      },
      "execution_count": null,
      "outputs": []
    },
    {
      "cell_type": "code",
      "source": [
        "from pandas import DataFrame\n",
        "dtCom = DataFrame(infoComics)\n",
        "dtCha = DataFrame(infoCharacter)\n",
        "dtEven = DataFrame(infoEvents)"
      ],
      "metadata": {
        "id": "IHt88aItw_RW",
        "collapsed": true
      },
      "execution_count": null,
      "outputs": []
    },
    {
      "cell_type": "code",
      "source": [
        "dtCom.head(1)"
      ],
      "metadata": {
        "collapsed": true,
        "id": "TVt0U6Zoe4YR"
      },
      "execution_count": null,
      "outputs": []
    },
    {
      "cell_type": "code",
      "source": [
        "dtCha.head(1)"
      ],
      "metadata": {
        "id": "ueQnUkBUiwvZ"
      },
      "execution_count": null,
      "outputs": []
    },
    {
      "cell_type": "code",
      "source": [
        "dtEven.head(1)"
      ],
      "metadata": {
        "id": "KXOlo5sniwdD"
      },
      "execution_count": null,
      "outputs": []
    },
    {
      "cell_type": "code",
      "source": [
        "#Criando o banco\n",
        "conn = sqlite3.connect('bancoMarvel')"
      ],
      "metadata": {
        "id": "498hw8sLh6rP"
      },
      "execution_count": null,
      "outputs": []
    },
    {
      "cell_type": "code",
      "source": [
        "#Definindo o cursor\n",
        "cursor = conn.cursor()"
      ],
      "metadata": {
        "id": "amZ8kVexiB-s"
      },
      "execution_count": null,
      "outputs": []
    },
    {
      "cell_type": "code",
      "source": [
        "#Criando tabela Comics\n",
        "cursor.execute('CREATE TABLE IF NOT EXISTS Comics(id INTEGER, name TEXT, description TEXT, pages INTEGER, creators TEXT)')\n",
        "\n",
        "cursor.execute('CREATE TABLE IF NOT EXISTS Character(id INTEGER, name TEXT, description TEXT, comics TEXT)')\n",
        "\n",
        "cursor.execute('CREATE TABLE IF NOT EXISTS Events(id INTEGER, name TEXT, description TEXT, dtini DATE, dtfim DATE, creators TEXT)')"
      ],
      "metadata": {
        "id": "Erzx2OGkiFAy"
      },
      "execution_count": null,
      "outputs": []
    },
    {
      "cell_type": "code",
      "source": [
        "#cursor.execute('DROP TABLE Comics')\n",
        "#cursor.execute('DROP TABLE Character')\n",
        "#cursor.execute('DROP TABLE Events')"
      ],
      "metadata": {
        "id": "OzExLOIznBrN"
      },
      "execution_count": null,
      "outputs": []
    },
    {
      "cell_type": "code",
      "source": [
        "# Definindo funções\n",
        "def inserirDados(dados, table):\n",
        "\n",
        "  # Validando tabela Comics e inserindo\n",
        "  if table.upper() == 'COMICS' and dados == infoComics:\n",
        "    for x in range(0, len(dados)):\n",
        "      cursor.execute(f\"\"\"\n",
        "            INSERT INTO {table} (id, name, description, pages, creators)\n",
        "            VALUES (?, ?, ?, ?, ?)\n",
        "        \"\"\", (dados[x]['Código'], dados[x]['Nome'], dados[x]['Descrição'], dados[x]['Páginas'], dados[x]['Criadores']))\n",
        "      conn.commit()\n",
        "    print(f'Dados inseridos com sucesso na tabela {table}!')\n",
        "\n",
        "  # Validando tabela Character e inserindo\n",
        "  elif (table.upper() == 'CHARACTER' and dados == infoCharacter):\n",
        "    for x in range(0, len(dados)):\n",
        "      cursor.execute(f\"\"\"\n",
        "            INSERT INTO {table} (id, name, description, comics)\n",
        "            VALUES (?, ?, ?, ?)\n",
        "        \"\"\", (dados[x]['Código'], dados[x]['Nome'], dados[x]['Descrição'], dados[x]['Quadrinhos']))\n",
        "      conn.commit()\n",
        "    print(f'Dados inseridos com sucesso na tabela {table}!')\n",
        "\n",
        "  # Validando tabela Events e inserindo\n",
        "  elif (table.upper() == 'EVENTS' and dados == infoEvents):\n",
        "    for x in range(0, len(dados)):\n",
        "      cursor.execute(f\"\"\"\n",
        "            INSERT INTO {table} (id, name, description, dtini, dtfim, creators)\n",
        "            VALUES (?, ?, ?, ?, ?, ?)\n",
        "        \"\"\", (dados[x]['Código'], dados[x]['Nome'], dados[x]['Descrição'], dados[x]['Data Início'], dados[x]['Data Fim'], dados[x]['Criador']))\n",
        "      conn.commit()\n",
        "    print(f'Dados inseridos com sucesso na tabela {table}!')\n",
        "\n",
        "  else:\n",
        "    print('Tabela inválida.')\n",
        "\n",
        "def visualizarTabela(table):\n",
        "  return pd.read_sql(f\"SELECT * FROM {table}\", conn)"
      ],
      "metadata": {
        "id": "OvBa4a5ai4P0"
      },
      "execution_count": null,
      "outputs": []
    },
    {
      "cell_type": "code",
      "source": [
        "inserirDados(infoComics, 'Comics')"
      ],
      "metadata": {
        "id": "ROdmxioijZ1P"
      },
      "execution_count": null,
      "outputs": []
    },
    {
      "cell_type": "code",
      "source": [
        "inserirDados(infoCharacter, 'Character')"
      ],
      "metadata": {
        "id": "HVG_FZ0FjaMI"
      },
      "execution_count": null,
      "outputs": []
    },
    {
      "cell_type": "code",
      "source": [
        "inserirDados(infoEvents, 'Events')"
      ],
      "metadata": {
        "id": "8KCofJfOjdp-"
      },
      "execution_count": null,
      "outputs": []
    },
    {
      "cell_type": "code",
      "source": [
        "visualizarTabela('Comics')"
      ],
      "metadata": {
        "id": "gciyHC4yjeqM"
      },
      "execution_count": null,
      "outputs": []
    },
    {
      "cell_type": "code",
      "source": [
        "visualizarTabela('Character')"
      ],
      "metadata": {
        "id": "4ymtJaUljghg"
      },
      "execution_count": null,
      "outputs": []
    },
    {
      "cell_type": "code",
      "source": [
        "visualizarTabela('Events')"
      ],
      "metadata": {
        "id": "XmTeLv4Ljgzg"
      },
      "execution_count": null,
      "outputs": []
    },
    {
      "cell_type": "markdown",
      "source": [
        "##Insights"
      ],
      "metadata": {
        "id": "OcX2geIEjsYE"
      }
    },
    {
      "cell_type": "markdown",
      "source": [
        "###Comics"
      ],
      "metadata": {
        "id": "mkW3paBljuP1"
      }
    },
    {
      "cell_type": "code",
      "source": [
        "# Quadrinho com a maior quantidade de páginas\n",
        "pd.read_sql(f\"SELECT id, name, description, MAX(pages) FROM Comics\", conn)"
      ],
      "metadata": {
        "id": "DY2CkSNij0NY"
      },
      "execution_count": null,
      "outputs": []
    },
    {
      "cell_type": "code",
      "source": [
        "# Quadrinho com a menor quantidade de páginas\n",
        "pd.read_sql(f\"SELECT id, name, description, MIN(pages) FROM Comics WHERE pages != 0\", conn)"
      ],
      "metadata": {
        "id": "TGV3JVGFj0lY"
      },
      "execution_count": null,
      "outputs": []
    },
    {
      "cell_type": "code",
      "source": [
        "# Quadrinho que são pôsters\n",
        "pd.read_sql(f\"SELECT COUNT(pages) FROM Comics WHERE pages = 0\", conn)"
      ],
      "metadata": {
        "id": "a1iiZR9yj0zw"
      },
      "execution_count": null,
      "outputs": []
    },
    {
      "cell_type": "code",
      "source": [
        "# Quantidade de quadrinhos\n",
        "pd.read_sql(f\"SELECT COUNT(pages) FROM Comics WHERE pages != 0\", conn)"
      ],
      "metadata": {
        "id": "hkdva-3jj6xw"
      },
      "execution_count": null,
      "outputs": []
    },
    {
      "cell_type": "markdown",
      "source": [
        "####Trazendo todos os criadores separados por linha na tabela Comics"
      ],
      "metadata": {
        "id": "Q1XCo_dhj76W"
      }
    },
    {
      "cell_type": "code",
      "source": [
        "# Removendo a descrição, não será necessária nessa análise\n",
        "criadoresComics = pd.read_sql(f'SELECT id, name, pages, creators FROM comics', conn)"
      ],
      "metadata": {
        "id": "7c20X_EykA60"
      },
      "execution_count": null,
      "outputs": []
    },
    {
      "cell_type": "code",
      "source": [
        "# Exportar para CSV\n",
        "criadoresComics.to_csv('CriadoresComicsCSV' + '.csv', encoding='utf-8', index=False, header=True,)"
      ],
      "metadata": {
        "id": "EGXfLbJ5mzW7"
      },
      "execution_count": null,
      "outputs": []
    },
    {
      "cell_type": "code",
      "source": [
        "# Alterando o CriadoresCSV.csv para retornar todos os criadores em linha.\n",
        "creatorsComics = pd.read_csv(\"CriadoresComicsCSV.csv\")\n",
        "\n",
        "creatorsComics['creators'] = creatorsComics['creators'].str.split(', ')\n",
        "df_creators = creatorsComics.explode('creators').reset_index(drop=True)\n",
        "df_creators.head(10)"
      ],
      "metadata": {
        "id": "IqFy5E_0kAzi"
      },
      "execution_count": null,
      "outputs": []
    },
    {
      "cell_type": "code",
      "source": [
        "# Criando a tabela ComicsCreators que irá receber os dados filtrados\n",
        "df_creators.to_sql('ComicsCreators', conn)"
      ],
      "metadata": {
        "id": "VjLgX7WukArC"
      },
      "execution_count": null,
      "outputs": []
    },
    {
      "cell_type": "code",
      "source": [
        "# SELECT para validar os dados\n",
        "pd.read_sql('SELECT * FROM ComicsCreators', conn)"
      ],
      "metadata": {
        "id": "414GDI_YkE6a"
      },
      "execution_count": null,
      "outputs": []
    },
    {
      "cell_type": "code",
      "source": [
        "# Buscando quantos os autores e de quantos quadrinhos são responsáveis.\n",
        "countCreatorsComics = pd.read_sql('SELECT creators, COUNT(1) FROM ComicsCreators GROUP BY creators', conn)\n",
        "\n",
        "countCreatorsComics"
      ],
      "metadata": {
        "id": "VtyEY95bkEiX"
      },
      "execution_count": null,
      "outputs": []
    },
    {
      "cell_type": "code",
      "source": [
        "# Exportando Events para Excel\n",
        "countCreatorsComics.to_csv('quantQuadCriados.CSV' + '.csv', encoding='utf-8', index=False, header=True, sep = ';')"
      ],
      "metadata": {
        "id": "AN4FONsKpb4U"
      },
      "execution_count": null,
      "outputs": []
    },
    {
      "cell_type": "markdown",
      "source": [
        "--------------------------------------------"
      ],
      "metadata": {
        "id": "O-vY0L0ZjxkU"
      }
    },
    {
      "cell_type": "markdown",
      "source": [
        "###Events"
      ],
      "metadata": {
        "id": "5coP3QsjkHwR"
      }
    },
    {
      "cell_type": "code",
      "source": [
        "# Criando uma partição da tabela events com dados necessários para a manipulação.\n",
        "criadoresEvents = pd.read_sql(f'SELECT id, name, description, dtini, dtfim, creators FROM events', conn)"
      ],
      "metadata": {
        "id": "irENL-vfkJuU"
      },
      "execution_count": null,
      "outputs": []
    },
    {
      "cell_type": "code",
      "source": [
        "# Exportando para CSV\n",
        "criadoresEvents.to_csv('CriadoresEventsCSV' + '.csv', encoding='utf-8', index=False, header=True,)"
      ],
      "metadata": {
        "id": "jVFXchsQm3bU"
      },
      "execution_count": null,
      "outputs": []
    },
    {
      "cell_type": "code",
      "source": [
        "# Manipulando em CSV para tornar a lista de criadores em linhas\n",
        "creatorsEvents = pd.read_csv(\"CriadoresEventsCSV.csv\")\n",
        "\n",
        "creatorsEvents['creators'] = creatorsEvents['creators'].str.split(', ')\n",
        "df_creatorsEvents = creatorsEvents.explode('creators').reset_index(drop=True)\n",
        "df_creatorsEvents.head(10)"
      ],
      "metadata": {
        "id": "3tdoaeArkJ5g"
      },
      "execution_count": null,
      "outputs": []
    },
    {
      "cell_type": "code",
      "source": [
        "# Criando a tabela EventsCreators que irá retornar todos os criadores dos eventos em linha\n",
        "df_creatorsEvents.to_sql('EventsCreators', conn)"
      ],
      "metadata": {
        "id": "tcNB3ddWkKMQ"
      },
      "execution_count": null,
      "outputs": []
    },
    {
      "cell_type": "code",
      "source": [
        "# SELECT de validação dos dados\n",
        "pd.read_sql('SELECT * FROM EventsCreators', conn)"
      ],
      "metadata": {
        "id": "i9QaQIG2kKcx"
      },
      "execution_count": null,
      "outputs": []
    },
    {
      "cell_type": "code",
      "source": [
        "# Visualizando a quantidade de eventos criados por cada criador.\n",
        "countCreatorsEvents = pd.read_sql('SELECT creators, COUNT(1) FROM EventsCreators GROUP BY creators', conn)\n",
        "\n",
        "countCreatorsEvents"
      ],
      "metadata": {
        "id": "VhprCWx7kKqW"
      },
      "execution_count": null,
      "outputs": []
    },
    {
      "cell_type": "code",
      "source": [
        "# Exportando Events para Excel\n",
        "countCreatorsEvents.to_csv('quantEventCriados.CSV' + '.csv', encoding='utf-8', index=False, header=True, sep = ';')"
      ],
      "metadata": {
        "id": "2H03iwdDpRzt"
      },
      "execution_count": null,
      "outputs": []
    },
    {
      "cell_type": "markdown",
      "source": [
        "--------------------------------------------------------"
      ],
      "metadata": {
        "id": "P1GARIhQkS1i"
      }
    },
    {
      "cell_type": "markdown",
      "source": [
        "###Character"
      ],
      "metadata": {
        "id": "AMR21oB5kQYQ"
      }
    },
    {
      "cell_type": "code",
      "source": [
        "# Realizando um SELECT nos dados necessários\n",
        "quadrinhosCharacter = pd.read_sql(f'SELECT id, name, description, comics FROM character', conn)"
      ],
      "metadata": {
        "id": "gK6lo-zikK6y"
      },
      "execution_count": null,
      "outputs": []
    },
    {
      "cell_type": "code",
      "source": [
        "#Exportando para CSV\n",
        "quadrinhosCharacter.to_csv('ComicsCharacterCSV' + '.csv', encoding='utf-8', index=False, header=True,)"
      ],
      "metadata": {
        "id": "iRGiZgI-m6oN"
      },
      "execution_count": null,
      "outputs": []
    },
    {
      "cell_type": "code",
      "source": [
        "# Trazendo os personagens e os quadrinhos em que participa\n",
        "comicsCharacter = pd.read_csv(\"ComicsCharacterCSV.csv\")\n",
        "\n",
        "comicsCharacter['comics'] = comicsCharacter['comics'].str.split(', ')\n",
        "df_comicsCharacter = comicsCharacter.explode('comics').reset_index(drop=True)\n",
        "df_comicsCharacter.head(10)"
      ],
      "metadata": {
        "id": "D9qL-EQRkV-E"
      },
      "execution_count": null,
      "outputs": []
    },
    {
      "cell_type": "code",
      "source": [
        "# Criando a tabela com os personagens e um quadrinho por linha\n",
        "df_comicsCharacter.to_sql('CharacterComics', conn)"
      ],
      "metadata": {
        "id": "MVY7mbgNkV2l"
      },
      "execution_count": null,
      "outputs": []
    },
    {
      "cell_type": "code",
      "source": [
        "# SELECT para validar os dados\n",
        "pd.read_sql('SELECT * FROM CharacterComics', conn)"
      ],
      "metadata": {
        "id": "uwB_IA3MkVuM"
      },
      "execution_count": null,
      "outputs": []
    },
    {
      "cell_type": "code",
      "source": [
        "# Visualizando a quantidade de quadrinhos cada personagem faz parte.\n",
        "countComicsCharacter = pd.read_sql('SELECT name, COUNT(1) FROM CharacterComics GROUP BY name', conn)\n",
        "\n",
        "countComicsCharacter"
      ],
      "metadata": {
        "id": "B5Mulrt7kVal"
      },
      "execution_count": null,
      "outputs": []
    },
    {
      "cell_type": "code",
      "source": [
        "# Exportando Events para Excel\n",
        "countComicsCharacter.to_csv('quantQuadPerson.CSV' + '.csv', encoding='utf-8', index=False, header=True, sep = ';')"
      ],
      "metadata": {
        "id": "30f-MoIgpDJr"
      },
      "execution_count": null,
      "outputs": []
    },
    {
      "cell_type": "markdown",
      "source": [
        "--------------------------------------------------------"
      ],
      "metadata": {
        "id": "6CY5R-V8kjEW"
      }
    }
  ]
}