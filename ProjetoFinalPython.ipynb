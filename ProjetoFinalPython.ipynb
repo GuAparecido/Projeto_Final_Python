{
  "nbformat": 4,
  "nbformat_minor": 0,
  "metadata": {
    "colab": {
      "provenance": [],
      "include_colab_link": true
    },
    "kernelspec": {
      "name": "python3",
      "display_name": "Python 3"
    },
    "language_info": {
      "name": "python"
    }
  },
  "cells": [
    {
      "cell_type": "markdown",
      "metadata": {
        "id": "view-in-github",
        "colab_type": "text"
      },
      "source": [
        "<a href=\"https://colab.research.google.com/github/GuAparecido/Projeto_Final_Python/blob/main/ProjetoFinalPython.ipynb\" target=\"_parent\"><img src=\"https://colab.research.google.com/assets/colab-badge.svg\" alt=\"Open In Colab\"/></a>"
      ]
    },
    {
      "cell_type": "code",
      "execution_count": 5,
      "metadata": {
        "id": "yt60wQ_ZZruC"
      },
      "outputs": [],
      "source": [
        "import requests\n",
        "import time\n",
        "import hashlib\n",
        "from google.colab import userdata"
      ]
    },
    {
      "cell_type": "code",
      "source": [
        "# Request Url: http://gateway.marvel.com/v1/public/comics\n",
        "# Request Method: GET\n",
        "urlComics = \"http://gateway.marvel.com/v1/public/comics\"\n",
        "urlCharacter = \"http://gateway.marvel.com/v1/public/characters\"\n",
        "urlEvents = \"http://gateway.marvel.com/v1/public/events\"\n",
        "\n",
        "# Declarando as variáveis necessárias\n",
        "api_key = userdata.get('api_key')\n",
        "ts = str(int(time.time()))\n",
        "secret_key = userdata.get('secret_key')\n",
        "string_to_hash =  ts + secret_key + api_key\n",
        "hash_value = hashlib.md5(string_to_hash.encode('utf-8')).hexdigest()\n",
        "\n",
        "#Definindo parâmetros de utilização da API.\n",
        "params = {\n",
        "    \"apikey\": api_key,\n",
        "    \"ts\": ts,\n",
        "    \"hash\": hash_value\n",
        "}\n",
        "\n",
        "# Buscando requisições dos quadrinhos\n",
        "responseComics = requests.get(urlComics, params=params)\n",
        "\n",
        "# Buscando requisições dos personagens\n",
        "responseCharacters = requests.get(urlCharacter, params=params)\n",
        "\n",
        "# # Buscando requisições dos eventos\n",
        "responseEvents = requests.get(urlEvents, params=params)\n",
        "\n",
        "# Validando o retorno das APIs\n",
        "# Quadrinhos\n",
        "if responseComics.status_code == 200:\n",
        "    dadosComics = responseComics.json()\n",
        "    print(\"Tudo certo com a requisição de comics\")\n",
        "else:\n",
        "    print(f\"Erro na requisição: {responseComics.status_code}\")\n",
        "\n",
        "# Personagens\n",
        "if responseCharacters.status_code == 200:\n",
        "    dadosCharacters = responseCharacters.json()\n",
        "    print(\"Tudo certo com a requisição de characters\")\n",
        "else:\n",
        "    print(f\"Erro na requisição: {responseCharacters.status_code}\")\n",
        "\n",
        "# Eventos\n",
        "if responseEvents.status_code == 200:\n",
        "    dadosEvents = responseEvents.json()\n",
        "    print(\"Tudo certo com a requisição de events\")\n",
        "else:\n",
        "    print(f\"Erro na requisição: {responseEvents.status_code}\")"
      ],
      "metadata": {
        "id": "7jtRV1p2iIxY"
      },
      "execution_count": null,
      "outputs": []
    },
    {
      "cell_type": "code",
      "source": [
        "# Verificando o retorno\n",
        "dadosComics"
      ],
      "metadata": {
        "collapsed": true,
        "id": "NBkuRKIiiWBs"
      },
      "execution_count": null,
      "outputs": []
    },
    {
      "cell_type": "code",
      "source": [
        "# Verificando o retorno\n",
        "dadosCharacters"
      ],
      "metadata": {
        "collapsed": true,
        "id": "2xv6wHa7jRoF"
      },
      "execution_count": null,
      "outputs": []
    },
    {
      "cell_type": "code",
      "source": [
        "# Verificando o retorno\n",
        "dadosEvents"
      ],
      "metadata": {
        "collapsed": true,
        "id": "Xhxf5Bs8jR-q"
      },
      "execution_count": null,
      "outputs": []
    },
    {
      "cell_type": "code",
      "source": [
        "# Validando status\n",
        "statusComics = dadosComics.get('status')\n",
        "print(statusComics)\n",
        "\n",
        "statusCharacters = dadosCharacters.get('status')\n",
        "print(statusCharacters)\n",
        "\n",
        "statusEvents = dadosEvents.get('status')\n",
        "print(statusEvents)"
      ],
      "metadata": {
        "id": "PlEKDFPtjVpg"
      },
      "execution_count": null,
      "outputs": []
    },
    {
      "cell_type": "code",
      "source": [
        "# Encurtando o caminho aos objetos desejados\n",
        "resultsComics = dadosComics.get('data', {}).get('results', [])\n",
        "resultsComics"
      ],
      "metadata": {
        "collapsed": true,
        "id": "MleTMlh5jlgU"
      },
      "execution_count": null,
      "outputs": []
    },
    {
      "cell_type": "code",
      "source": [
        "# Encurtando o caminho aos objetos\n",
        "resultsCharacters = dadosCharacters.get('data', {}).get('results', [])\n",
        "resultsCharacters"
      ],
      "metadata": {
        "id": "pYeK-p0ijl0u"
      },
      "execution_count": null,
      "outputs": []
    },
    {
      "cell_type": "code",
      "source": [
        "# Encurtando o caminho aos objetos\n",
        "resultsEvents = dadosEvents.get('data', {}).get('results', [])\n",
        "resultsEvents"
      ],
      "metadata": {
        "id": "v8NmhDE5jmHZ"
      },
      "execution_count": null,
      "outputs": []
    }
  ]
}